{
 "cells": [
  {
   "cell_type": "markdown",
   "metadata": {},
   "source": [
    "<img src=\"https://bit.ly/2VnXWr2\" width=\"100\" align=\"left\">"
   ]
  },
  {
   "cell_type": "markdown",
   "metadata": {},
   "source": [
    "# Rock, Paper & Scissors\n",
    "\n",
    "Let's play the famous game against our computer. You can check the rules [here](https://en.wikipedia.org/wiki/Rock%E2%80%93paper%E2%80%93scissors). \n",
    "\n",
    "## Task\n",
    "Create a program that imitates the playability of the well known game of rock, paper, scissors. Follow the guidelines provided.\n",
    "\n",
    "## Tools\n",
    "1. Loop: **for/while**\n",
    "2. Functions: **input(), print()...**\n",
    "3. Conditional statements: **if, elif, else**\n",
    "4. Definition of functions. Modular programming\n",
    "5. Import modules\n",
    "\n",
    "**To solve this challenge, the use of functions is recommended.**\n",
    "\n",
    "#### 1. Import the choice function of the random module."
   ]
  },
  {
   "cell_type": "code",
   "execution_count": 1,
   "metadata": {},
   "outputs": [],
   "source": [
    "import random"
   ]
  },
  {
   "cell_type": "markdown",
   "metadata": {},
   "source": [
    "#### 2. Create a list that includes the 3 possible gesture options of the game: 'rock', 'paper' or 'scissors'. Store the list in a variable called `gestures`."
   ]
  },
  {
   "cell_type": "code",
   "execution_count": 2,
   "metadata": {},
   "outputs": [],
   "source": [
    "gestures = [\"rock\", \"paper\", \"scissors\"]"
   ]
  },
  {
   "cell_type": "markdown",
   "metadata": {},
   "source": [
    "#### 3. Create a variable called `n_rounds` to store the maximum number of rounds to play in a game. \n",
    "Remember that the number of rounds must be odd: 1, 3, 5, ..."
   ]
  },
  {
   "cell_type": "code",
   "execution_count": 3,
   "metadata": {},
   "outputs": [
    {
     "name": "stdout",
     "output_type": "stream",
     "text": [
      "you must enter an odd number\n",
      "enter the number of rounds :\n"
     ]
    },
    {
     "ename": "ValueError",
     "evalue": "invalid literal for int() with base 10: ''",
     "output_type": "error",
     "traceback": [
      "\u001b[1;31m---------------------------------------------------------------------------\u001b[0m",
      "\u001b[1;31mValueError\u001b[0m                                Traceback (most recent call last)",
      "\u001b[1;32m<ipython-input-3-4f826c629122>\u001b[0m in \u001b[0;36m<module>\u001b[1;34m\u001b[0m\n\u001b[0;32m      4\u001b[0m \u001b[1;32mwhile\u001b[0m \u001b[0mn_rounds\u001b[0m \u001b[1;33m%\u001b[0m \u001b[1;36m2\u001b[0m \u001b[1;33m!=\u001b[0m \u001b[1;36m1\u001b[0m\u001b[1;33m:\u001b[0m\u001b[1;33m\u001b[0m\u001b[1;33m\u001b[0m\u001b[0m\n\u001b[0;32m      5\u001b[0m     \u001b[0mprint\u001b[0m\u001b[1;33m(\u001b[0m\u001b[1;34m\"you must enter an odd number\"\u001b[0m\u001b[1;33m)\u001b[0m\u001b[1;33m\u001b[0m\u001b[1;33m\u001b[0m\u001b[0m\n\u001b[1;32m----> 6\u001b[1;33m     \u001b[0mn_rounds\u001b[0m \u001b[1;33m=\u001b[0m \u001b[0mint\u001b[0m\u001b[1;33m(\u001b[0m\u001b[0minput\u001b[0m\u001b[1;33m(\u001b[0m\u001b[1;34m\"enter the number of rounds :\"\u001b[0m\u001b[1;33m)\u001b[0m\u001b[1;33m)\u001b[0m\u001b[1;33m\u001b[0m\u001b[1;33m\u001b[0m\u001b[0m\n\u001b[0m\u001b[0;32m      7\u001b[0m \u001b[1;33m\u001b[0m\u001b[0m\n\u001b[0;32m      8\u001b[0m \u001b[0mprint\u001b[0m\u001b[1;33m(\u001b[0m\u001b[1;34m\"you have chosen to play\"\u001b[0m\u001b[1;33m,\u001b[0m \u001b[0mn_rounds\u001b[0m\u001b[1;33m,\u001b[0m \u001b[1;34m\"rounds\"\u001b[0m\u001b[1;33m)\u001b[0m\u001b[1;33m\u001b[0m\u001b[1;33m\u001b[0m\u001b[0m\n",
      "\u001b[1;31mValueError\u001b[0m: invalid literal for int() with base 10: ''"
     ]
    }
   ],
   "source": [
    "#Please enter the number of wished rounds\n",
    "\n",
    "n_rounds = 0\n",
    "while n_rounds % 2 != 1:\n",
    "    print(\"you must enter an odd number\")\n",
    "    n_rounds = int(input(\"enter the number of rounds :\"))\n",
    "\n",
    "print(\"you have chosen to play\", n_rounds, \"rounds\")"
   ]
  },
  {
   "cell_type": "markdown",
   "metadata": {},
   "source": [
    "#### 4. Create a variable called `rounds_to_win` to store the number of rounds that a player must win to win the game.\n",
    "**Hint**: the value stored in `rounds_to_win` depends on the value of `n_rounds`. "
   ]
  },
  {
   "cell_type": "code",
   "execution_count": 4,
   "metadata": {},
   "outputs": [],
   "source": [
    "rounds_to_win = (n_rounds//2)+1"
   ]
  },
  {
   "cell_type": "markdown",
   "metadata": {},
   "source": [
    "#### 5. Create two variables to store the number of rounds that the computer and the player have won. Call these variables `cpu_score` and `player_score`."
   ]
  },
  {
   "cell_type": "code",
   "execution_count": 5,
   "metadata": {},
   "outputs": [],
   "source": [
    "cpu_score = 0\n",
    "player_score = 0\n"
   ]
  },
  {
   "cell_type": "markdown",
   "metadata": {},
   "source": [
    "#### 6. Define a function that randomly returns one of the 3 gesture options.\n",
    "You will use this function to simulate the gesture choice of the computer. "
   ]
  },
  {
   "cell_type": "code",
   "execution_count": 6,
   "metadata": {},
   "outputs": [],
   "source": [
    "def random_cpu():\n",
    "    \"\"\" function random_cpu randomly returns CPU's gesture choice\"\"\"\n",
    "\n",
    "    return random.choice(gestures)\n"
   ]
  },
  {
   "cell_type": "markdown",
   "metadata": {},
   "source": [
    "#### 7. Define a function that asks the player which is the gesture he or she wants to show: 'rock', 'paper' or 'scissors'.\n",
    "The player should only be allowed to choose one of the 3 gesture options. If the player's choice is not rock, paper or scissors, keep asking until it is."
   ]
  },
  {
   "cell_type": "code",
   "execution_count": 7,
   "metadata": {},
   "outputs": [],
   "source": [
    "def player_select():\n",
    "    print(\"chose your gesture from the gesture list : rock, paper or scissors\")\n",
    "    player_input = input()\n",
    "    while player_input not in gestures:\n",
    "        player_input = input(\"please chose your gesture from the given gesture list : rock, paper or scissors\")\n",
    "    print(\"you have chosen {0}, a wise choice\".format(player_input))\n",
    "    return player_input"
   ]
  },
  {
   "cell_type": "markdown",
   "metadata": {},
   "source": [
    "#### 8. Define a function that checks who won a round. \n",
    "The function should return 0 if there is a tie, 1 if the computer wins and 2 if the player wins."
   ]
  },
  {
   "cell_type": "code",
   "execution_count": 8,
   "metadata": {},
   "outputs": [
    {
     "name": "stdout",
     "output_type": "stream",
     "text": [
      "chose your gesture from the gesture list : rock, paper or scissors\n",
      "rock\n",
      "you have chosen rock, a wise choice\n"
     ]
    },
    {
     "data": {
      "text/plain": [
       "2"
      ]
     },
     "execution_count": 8,
     "metadata": {},
     "output_type": "execute_result"
    }
   ],
   "source": [
    "def numerized_answer(x):\n",
    "    if x[0] == \"r\":\n",
    "        cpu_g = 0\n",
    "    elif x[0] == \"p\":\n",
    "        cpu_g = 1\n",
    "    else:\n",
    "        cpu_g = 2    \n",
    "    return cpu_g\n",
    "     \n",
    "choice_player = numerized_answer(player_select())\n",
    "\n",
    "random_computer = numerized_answer(random_cpu())\n",
    "\n",
    "\n",
    "round_battle = 0\n",
    "    \n",
    "def round_win(cpu,player):\n",
    "    if cpu == player:\n",
    "        result_battle = 0\n",
    "    elif cpu == 0 and player == 1:\n",
    "        result_battle = 2\n",
    "    elif cpu == 2 and player == 0:\n",
    "        result_battle = 2\n",
    "    elif cpu == 1 and player == 2:\n",
    "        result_battle = 2\n",
    "    else:\n",
    "        result_battle = 1\n",
    "    return result_battle\n",
    "\n",
    "\n",
    "round_win(random_computer, choice_player)"
   ]
  },
  {
   "cell_type": "markdown",
   "metadata": {},
   "source": [
    "#### 9. Define a function that prints the choice of the computer, the choice of the player and a message that announces who won the current round. \n",
    "You should also use this function to update the variables that count the number of rounds that the computer and the player have won. The score of the winner increases by one point. If there is a tie, the score does not increase."
   ]
  },
  {
   "cell_type": "code",
   "execution_count": 9,
   "metadata": {},
   "outputs": [
    {
     "name": "stdout",
     "output_type": "stream",
     "text": [
      "the computer has chosen scissors\n",
      "you have chosen rock a wise choice\n",
      "you have defeated my advanced AI bot, well done\n"
     ]
    },
    {
     "data": {
      "text/plain": [
       "2"
      ]
     },
     "execution_count": 9,
     "metadata": {},
     "output_type": "execute_result"
    }
   ],
   "source": [
    "def print_results(x,y):\n",
    "    print(\"the computer has chosen\",gestures[random_computer])\n",
    "    print(\"you have chosen\",gestures[choice_player], \"a wise choice\")\n",
    "    res = round_win(x,y)\n",
    "    if res == 0:\n",
    "        print(\"there is a tie\")\n",
    "    elif res == 1:\n",
    "        print(\"the computer has smashed you\")\n",
    "    else:\n",
    "        print(\"you have defeated my advanced AI bot, well done\")\n",
    "    return res\n",
    "        \n",
    "round_score = print_results(random_computer, choice_player)\n",
    "round_score"
   ]
  },
  {
   "cell_type": "code",
   "execution_count": 10,
   "metadata": {},
   "outputs": [
    {
     "name": "stdout",
     "output_type": "stream",
     "text": [
      "there has been a tie\n"
     ]
    }
   ],
   "source": [
    "def finale_results(random_computer, choice_player):\n",
    "    if player_score < cpu_score :\n",
    "        print(\"the computer has won\")\n",
    "    elif player_score > cpu_score :\n",
    "        print(\"the player has won\")\n",
    "    else:\n",
    "        print(\"there has been a tie\")\n",
    "        \n",
    "finale_results(random_computer, choice_player)"
   ]
  },
  {
   "cell_type": "markdown",
   "metadata": {},
   "source": [
    "#### 10. Now it's time to code the execution of the game using the functions and variables you defined above. \n",
    "\n",
    "First, create a loop structure that repeats while no player reaches the minimum score necessary to win and the number of rounds is less than the maximum number of rounds to play in a game.  \n",
    "\n",
    "Inside the loop, use the functions and variables above to create the execution of a round: ask for the player's choice, generate the random choice of the computer, show the round results, update the scores, etc. "
   ]
  },
  {
   "cell_type": "code",
   "execution_count": 2,
   "metadata": {},
   "outputs": [
    {
     "name": "stdout",
     "output_type": "stream",
     "text": [
      "you must enter an odd number\n",
      "enter the number of rounds :3\n",
      "you have chosen to play 3 rounds\n",
      "chose your gesture from the gesture list : rock, paper or scissors\n",
      "scissors\n",
      "you have chosen scissors, a wise choice\n",
      "the computer has chosen scissors\n",
      "you have chosen scissors a wise choice\n",
      "there is a tie\n",
      "0 0 \n",
      "\n",
      "chose your gesture from the gesture list : rock, paper or scissors\n",
      "scissors\n",
      "you have chosen scissors, a wise choice\n",
      "the computer has chosen scissors\n",
      "you have chosen scissors a wise choice\n",
      "there is a tie\n",
      "0 0 \n",
      "\n",
      "chose your gesture from the gesture list : rock, paper or scissors\n",
      "scissors\n",
      "you have chosen scissors, a wise choice\n",
      "the computer has chosen rock\n",
      "you have chosen scissors a wise choice\n",
      "the computer has smashed you\n",
      "1 0 \n",
      "\n",
      "chose your gesture from the gesture list : rock, paper or scissors\n",
      "scissors\n",
      "you have chosen scissors, a wise choice\n",
      "the computer has chosen paper\n",
      "you have chosen scissors a wise choice\n",
      "you have defeated my advanced AI bot, well done\n",
      "1 1 \n",
      "\n",
      "chose your gesture from the gesture list : rock, paper or scissors\n",
      "scissors\n",
      "you have chosen scissors, a wise choice\n",
      "the computer has chosen paper\n",
      "you have chosen scissors a wise choice\n",
      "you have defeated my advanced AI bot, well done\n",
      "1 2 \n",
      "\n",
      "the player has won\n"
     ]
    }
   ],
   "source": [
    "import random\n",
    "\n",
    "def random_cpu():\n",
    "    \"\"\" function random_cpu randomly returns CPU's gesture choice\"\"\"\n",
    "\n",
    "    return random.choice(gestures)\n",
    "\n",
    "def player_select():\n",
    "    \"\"\" function returns player's input gesture choice\"\"\"\n",
    "\n",
    "    print(\"chose your gesture from the gesture list : rock, paper or scissors\")\n",
    "    player_input = input()\n",
    "    while player_input not in gestures:\n",
    "        player_input = input(\"please chose your gesture from the given gesture list : rock, paper or scissors\")\n",
    "    print(\"you have chosen {0}, a wise choice\".format(player_input))\n",
    "    return player_input\n",
    "\n",
    "def numerized_answer(x):\n",
    "    \"\"\" function returns gesture choice as an integer - 0 for rock, 1 for papers, 2 for scissors\"\"\"\n",
    "    if x[0] == \"r\":\n",
    "        cpu_g = 0\n",
    "    elif x[0] == \"p\":\n",
    "        cpu_g = 1\n",
    "    else:\n",
    "        cpu_g = 2    \n",
    "    return cpu_g\n",
    "\n",
    "def round_win(cpu,player):\n",
    "    \"\"\" function returns round result of CPU VS. player\"\"\"\n",
    "    \n",
    "    if cpu == player:\n",
    "        result_battle = 0\n",
    "    elif cpu == 0 and player == 1:\n",
    "        result_battle = 2\n",
    "    elif cpu == 2 and player == 0:\n",
    "        result_battle = 2\n",
    "    elif cpu == 1 and player == 2:\n",
    "        result_battle = 2\n",
    "    else:\n",
    "        result_battle = 1\n",
    "    return result_battle\n",
    "\n",
    "def print_results(x,y):\n",
    "    \"\"\" function prints round result\"\"\"\n",
    "    \n",
    "    print(\"the computer has chosen\",gestures[random_computer])\n",
    "    print(\"you have chosen\",gestures[choice_player], \"a wise choice\")\n",
    "    res = round_win(x,y)\n",
    "    if res == 0:\n",
    "        print(\"there is a tie\")\n",
    "    elif res == 1:\n",
    "        print(\"the computer has smashed you\")\n",
    "    else:\n",
    "        print(\"you have defeated my advanced AI bot, well done\")\n",
    "    return res\n",
    "\n",
    "def finale_results(random_computer, choice_player):\n",
    "    \"\"\" function returns final game score\"\"\"\n",
    "    if player_score < cpu_score :\n",
    "        print(\"the computer has won\")\n",
    "    elif player_score > cpu_score :\n",
    "        print(\"the player has won\")\n",
    "    else:\n",
    "        print(\"there has been a tie\")\n",
    "\n",
    "\n",
    "gestures = [\"rock\", \"paper\", \"scissors\"]\n",
    "\n",
    "n_rounds = 0\n",
    "while n_rounds % 2 != 1:\n",
    "    print(\"you must enter an odd number\")\n",
    "    n_rounds = int(input(\"enter the number of rounds :\"))\n",
    "\n",
    "rounds_to_win = (n_rounds//2)+1    \n",
    "    \n",
    "print(\"you have chosen to play\", n_rounds, \"rounds\")\n",
    "\n",
    "cpu_score = 0\n",
    "player_score = 0\n",
    "\n",
    "while cpu_score < rounds_to_win and player_score < rounds_to_win:\n",
    "    random_computer = numerized_answer(random_cpu())\n",
    "    choice_player = numerized_answer(player_select())\n",
    "    round_score = print_results(random_computer, choice_player)\n",
    "    if round_score == 1:\n",
    "        cpu_score +=1\n",
    "    elif round_score == 2:\n",
    "        player_score +=1\n",
    "\n",
    "    print(cpu_score, player_score, \"\\n\")\n",
    "finale_results(random_computer, choice_player)\n"
   ]
  },
  {
   "cell_type": "markdown",
   "metadata": {},
   "source": [
    "#### 11. Print the winner of the game based on who won more rounds.\n",
    "Remember that the game might be tied. "
   ]
  },
  {
   "cell_type": "code",
   "execution_count": null,
   "metadata": {},
   "outputs": [],
   "source": []
  },
  {
   "cell_type": "markdown",
   "metadata": {},
   "source": [
    "# Bonus: Rock, Paper, Scissors, Lizard & Spock\n",
    "![](images/rpsls.jpg)\n",
    "\n",
    "In this challenge, you need to improve the previous game by adding two new options. To know more about the rules of the improved version of rock, paper, scissors, check this [link](http://www.samkass.com/theories/RPSSL.html). \n",
    "\n",
    "In addition, you will also need to improve how the game interacts with the player: the number of rounds to play, which must be an odd number, will be requested to the user until a valid number is entered. Define a new function to make that request.\n",
    "\n",
    "**Hint**: Try to reuse the code that you already coded in the previous challenge. If your code is efficient, this bonus will only consist of simple modifications to the original game."
   ]
  },
  {
   "cell_type": "code",
   "execution_count": 1,
   "metadata": {},
   "outputs": [
    {
     "name": "stdout",
     "output_type": "stream",
     "text": [
      "you must enter an odd number\n",
      "enter the number of rounds :5\n",
      "you have chosen to play 5 rounds\n",
      "chose your gesture from the gesture list : rock, paper, scissors, spock or lizard\n",
      "spock\n",
      "you have chosen spock, a wise choice\n",
      "jee 3\n",
      "the computer has chosen paper\n",
      "you have chosen spock a wise choice\n",
      "retour 1\n",
      "the computer has smashed you\n",
      "lala 1\n",
      "1 0 \n",
      "\n",
      "chose your gesture from the gesture list : rock, paper, scissors, spock or lizard\n",
      "spock\n",
      "you have chosen spock, a wise choice\n",
      "jee 3\n",
      "the computer has chosen scissors\n",
      "you have chosen spock a wise choice\n",
      "retour 2\n",
      "you have defeated my advanced AI bot, well done\n",
      "lala 2\n",
      "1 1 \n",
      "\n",
      "chose your gesture from the gesture list : rock, paper, scissors, spock or lizard\n",
      "spock\n",
      "you have chosen spock, a wise choice\n",
      "jee 3\n",
      "the computer has chosen lizard\n",
      "you have chosen spock a wise choice\n",
      "retour 1\n",
      "the computer has smashed you\n",
      "lala 1\n",
      "2 1 \n",
      "\n",
      "chose your gesture from the gesture list : rock, paper, scissors, spock or lizard\n",
      "spock\n",
      "you have chosen spock, a wise choice\n",
      "jee 3\n",
      "the computer has chosen paper\n",
      "you have chosen spock a wise choice\n",
      "retour 1\n",
      "the computer has smashed you\n",
      "lala 1\n",
      "3 1 \n",
      "\n",
      "the computer has won\n"
     ]
    }
   ],
   "source": [
    "import random\n",
    "\n",
    "def random_cpu():\n",
    "    \"\"\" function random_cpu randomly returns CPU's gesture choice\"\"\"\n",
    "\n",
    "    return random.choice(gestures)\n",
    "\n",
    "def player_select():\n",
    "    \"\"\" function returns player's input gesture choice\"\"\"\n",
    "\n",
    "    print(\"chose your gesture from the gesture list : rock, paper, scissors, spock or lizard\")\n",
    "    player_input = input()\n",
    "    while player_input not in gestures:\n",
    "        player_input = input(\"please chose your gesture from the given gesture list : rock, paper or scissors\")\n",
    "    print(\"you have chosen {0}, a wise choice\".format(player_input))\n",
    "    return player_input\n",
    "\n",
    "def numerized_answer(x):\n",
    "    \"\"\" function returns gesture choice as an integer - 0 for rock, 1 for papers, 2 for scissors\n",
    "    3 for spock, 4 for lizard\"\"\"\n",
    "    \n",
    "    if x[0] == \"r\":\n",
    "        cpu_g = 0\n",
    "    elif x[0] == \"p\":\n",
    "        cpu_g = 1\n",
    "    elif x == \"scissors\":\n",
    "        cpu_g = 2\n",
    "    elif x == \"spock\":\n",
    "        cpu_g = 3\n",
    "    else:\n",
    "        cpu_g = 4    \n",
    "    return cpu_g\n",
    "\n",
    "def round_win(cpu,player):\n",
    "    \"\"\" function returns round result of CPU VS. player\"\"\"\n",
    "\n",
    "    if cpu == player:\n",
    "        result_battle = 0\n",
    "    elif cpu == 0 and player == 1:\n",
    "        result_battle = 2\n",
    "    elif cpu == 0 and player == 3:\n",
    "        result_battle = 2\n",
    "    elif cpu == 1 and player == 2:\n",
    "        result_battle = 2\n",
    "    elif cpu == 1 and player == 4:\n",
    "        result_battle = 2    \n",
    "    elif cpu == 2 and player == 0:\n",
    "        result_battle = 2\n",
    "    elif cpu == 2 and player == 3:\n",
    "        result_battle = 2    \n",
    "    elif cpu == 3 and player == 1:\n",
    "        result_battle = 2    \n",
    "    elif cpu == 3 and player == 4:\n",
    "        result_battle = 2    \n",
    "    elif cpu == 4 and player == 0:\n",
    "        result_battle = 2    \n",
    "    elif cpu == 4 and player == 2:\n",
    "        result_battle = 2    \n",
    "    else:\n",
    "        result_battle = 1\n",
    "    print(\"retour\", result_battle)\n",
    "    return result_battle\n",
    "\n",
    "def print_results(x,y):\n",
    "    \"\"\" function prints round result\"\"\"\n",
    "    \n",
    "    print(\"the computer has chosen\",gestures[random_computer])\n",
    "    print(\"you have chosen\",gestures[choice_player], \"a wise choice\")\n",
    "    res = round_win(x,y)\n",
    "    if res == 0:\n",
    "        print(\"there is a tie\")\n",
    "    elif res == 1:\n",
    "        print(\"the computer has smashed you\")\n",
    "    else:\n",
    "        print(\"you have defeated my advanced AI bot, well done\")\n",
    "    return res\n",
    "\n",
    "def finale_results(random_computer, choice_player):\n",
    "    \"\"\" function returns final game score\"\"\"\n",
    "    if player_score < cpu_score :\n",
    "        print(\"the computer has won\")\n",
    "    elif player_score > cpu_score :\n",
    "        print(\"the player has won\")\n",
    "    else:\n",
    "        print(\"there has been a tie\")\n",
    "\n",
    "\n",
    "gestures = [\"rock\", \"paper\", \"scissors\", \"spock\", \"lizard\"]\n",
    "\n",
    "n_rounds = 0\n",
    "while n_rounds % 2 != 1:\n",
    "    print(\"you must enter an odd number\")\n",
    "    n_rounds = int(input(\"enter the number of rounds :\"))\n",
    "\n",
    "rounds_to_win = (n_rounds//2)+1    \n",
    "    \n",
    "print(\"you have chosen to play\", n_rounds, \"rounds\")\n",
    "\n",
    "cpu_score = 0\n",
    "player_score = 0\n",
    "\n",
    "while cpu_score < rounds_to_win and player_score < rounds_to_win:\n",
    "    random_computer = numerized_answer(random_cpu())\n",
    "    choice_player = numerized_answer(player_select())\n",
    "    round_score = print_results(random_computer, choice_player)\n",
    "    if round_score == 1:\n",
    "        cpu_score +=1\n",
    "    elif round_score == 2:\n",
    "        player_score +=1\n",
    "\n",
    "    print(cpu_score, player_score, \"\\n\")\n",
    "finale_results(random_computer, choice_player)\n"
   ]
  },
  {
   "cell_type": "code",
   "execution_count": null,
   "metadata": {},
   "outputs": [],
   "source": []
  }
 ],
 "metadata": {
  "kernelspec": {
   "display_name": "Python 3",
   "language": "python",
   "name": "python3"
  },
  "language_info": {
   "codemirror_mode": {
    "name": "ipython",
    "version": 3
   },
   "file_extension": ".py",
   "mimetype": "text/x-python",
   "name": "python",
   "nbconvert_exporter": "python",
   "pygments_lexer": "ipython3",
   "version": "3.7.3"
  }
 },
 "nbformat": 4,
 "nbformat_minor": 2
}
